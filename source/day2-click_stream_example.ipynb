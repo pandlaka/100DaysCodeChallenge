{
 "cells": [
  {
   "cell_type": "code",
   "execution_count": 0,
   "metadata": {
    "application/vnd.databricks.v1+cell": {
     "cellMetadata": {
      "byteLimit": 2048000,
      "rowLimit": 10000
     },
     "inputWidgets": {},
     "nuid": "d9731910-f839-4d7a-8b63-e35dcdaa609a",
     "showTitle": false,
     "title": ""
    }
   },
   "outputs": [
    {
     "output_type": "stream",
     "name": "stdout",
     "output_type": "stream",
     "text": [
      "+------+--------------------+\n|userid|          login_time|\n+------+--------------------+\n|    U1|2023-01-01T11:00:00Z|\n|    U1|2023-01-01T11:15:00Z|\n|    U1|2023-01-01T12:00:00Z|\n|    U1|2023-01-01T12:20:00Z|\n|    U1|2023-01-01T15:00:00Z|\n|    U2|2023-01-01T11:00:00Z|\n|    U2|2023-01-02T11:00:00Z|\n|    U2|2023-01-02T11:25:00Z|\n|    U2|2023-01-02T11:50:00Z|\n|    U2|2023-01-02T12:15:00Z|\n|    U2|2023-01-02T12:40:00Z|\n|    U2|2023-01-02T13:05:00Z|\n|    U2|2023-01-02T13:20:00Z|\n+------+--------------------+\n\nNone\n<bound method DataFrame.printSchema of DataFrame[userid: string, login_time: string]>\n+------+-------------------+\n|userid|         click_time|\n+------+-------------------+\n|    U1|2023-01-01 11:00:00|\n|    U1|2023-01-01 11:15:00|\n|    U1|2023-01-01 12:00:00|\n|    U1|2023-01-01 12:20:00|\n|    U1|2023-01-01 15:00:00|\n|    U2|2023-01-01 11:00:00|\n|    U2|2023-01-02 11:00:00|\n|    U2|2023-01-02 11:25:00|\n|    U2|2023-01-02 11:50:00|\n|    U2|2023-01-02 12:15:00|\n|    U2|2023-01-02 12:40:00|\n|    U2|2023-01-02 13:05:00|\n|    U2|2023-01-02 13:20:00|\n+------+-------------------+\n\nNone\n+------+-------------------+-------------------+---------+--------------+---------------+-------------------+----------+----------+\n|userid|         click_time|     lag_click_time|time_diff|is_new_session|temp_session_id|   first_click_time|time_diff2|session_id|\n+------+-------------------+-------------------+---------+--------------+---------------+-------------------+----------+----------+\n|    U1|2023-01-01 11:00:00|               null|      0.0|             0|              0|2023-01-01 11:00:00|         0|         0|\n|    U1|2023-01-01 11:15:00|2023-01-01 11:00:00|     15.0|             0|              0|2023-01-01 11:00:00|         0|         0|\n|    U1|2023-01-01 12:00:00|2023-01-01 11:15:00|     45.0|             1|              1|2023-01-01 12:00:00|         0|         1|\n|    U1|2023-01-01 12:20:00|2023-01-01 12:00:00|     20.0|             0|              1|2023-01-01 12:00:00|         0|         1|\n|    U1|2023-01-01 15:00:00|2023-01-01 12:20:00|    160.0|             1|              2|2023-01-01 15:00:00|         0|         2|\n|    U2|2023-01-01 11:00:00|               null|      0.0|             0|              0|2023-01-01 11:00:00|         0|         0|\n|    U2|2023-01-02 11:00:00|2023-01-01 11:00:00|   1440.0|             1|              1|2023-01-02 11:00:00|         0|         1|\n|    U2|2023-01-02 11:25:00|2023-01-02 11:00:00|     25.0|             0|              1|2023-01-02 11:00:00|         0|         1|\n|    U2|2023-01-02 11:50:00|2023-01-02 11:25:00|     25.0|             0|              1|2023-01-02 11:00:00|         0|         1|\n|    U2|2023-01-02 12:15:00|2023-01-02 11:50:00|     25.0|             0|              1|2023-01-02 11:00:00|         0|         1|\n|    U2|2023-01-02 12:40:00|2023-01-02 12:15:00|     25.0|             0|              1|2023-01-02 11:00:00|         0|         1|\n|    U2|2023-01-02 13:05:00|2023-01-02 12:40:00|     25.0|             0|              1|2023-01-02 11:00:00|         1|         2|\n|    U2|2023-01-02 13:20:00|2023-01-02 13:05:00|     15.0|             0|              1|2023-01-02 11:00:00|         1|         2|\n+------+-------------------+-------------------+---------+--------------+---------------+-------------------+----------+----------+\n\n+------+-------------------+----------+\n|userid|         click_time|session_id|\n+------+-------------------+----------+\n|    U1|2023-01-01 11:00:00|         0|\n|    U1|2023-01-01 11:15:00|         0|\n|    U1|2023-01-01 12:00:00|         1|\n|    U1|2023-01-01 12:20:00|         1|\n|    U1|2023-01-01 15:00:00|         2|\n|    U2|2023-01-01 11:00:00|         0|\n|    U2|2023-01-02 11:00:00|         1|\n|    U2|2023-01-02 11:25:00|         1|\n|    U2|2023-01-02 11:50:00|         1|\n|    U2|2023-01-02 12:15:00|         1|\n|    U2|2023-01-02 12:40:00|         1|\n|    U2|2023-01-02 13:05:00|         2|\n|    U2|2023-01-02 13:20:00|         2|\n+------+-------------------+----------+\n\n"
     ]
    }
   ],
   "source": [
    "from pyspark.sql import SparkSession\n",
    "from pyspark.sql.functions import col,from_utc_timestamp\n",
    "from pyspark.sql.window import Window\n",
    "from pyspark.sql.functions import lag,sum,first\n",
    "\n",
    "#file_loc='dbfs:/FileStore/tables/click_stream.txt'\n",
    "\n",
    "spark = SparkSession.builder.appName('click-stream').getOrCreate()\n",
    "sc = spark.sparkContext\n",
    "\n",
    "data_list = [(\"U1\",\"2023-01-01T11:00:00Z\"),(\"U1\",\"2023-01-01T11:15:00Z\"),(\"U1\",\"2023-01-01T12:00:00Z\"),(\"U1\",\"2023-01-01T12:20:00Z\"),(\"U1\",\"2023-01-01T15:00:00Z\"),(\"U2\",\"2023-01-01T11:00:00Z\"),(\"U2\",\"2023-01-02T11:00:00Z\"),(\"U2\",\"2023-01-02T11:25:00Z\"),(\"U2\",\"2023-01-02T11:50:00Z\"),(\"U2\",\"2023-01-02T12:15:00Z\"),(\"U2\",\"2023-01-02T12:40:00Z\"),(\"U2\",\"2023-01-02T13:05:00Z\"),(\"U2\",\"2023-01-02T13:20:00Z\")]\n",
    "df = sc.parallelize(data_list).toDF([\"userid\",\"login_time\"])\n",
    "print(df.show())\n",
    "print(df.printSchema)\n",
    "df1=df.withColumn('click_time',from_utc_timestamp(col('login_time'),'UTC')).drop('login_time')\n",
    "print(df1.show())\n",
    "df2=df1.withColumn(\"lag_click_time\",lag('click_time',1).over(Window.partitionBy('userid').orderBy('click_time'))).drop('login_time').withColumn(\"time_diff\",(col(\"click_time\").cast('long')-col('lag_click_time').cast('long'))/(60)).fillna(0).withColumn(\"is_new_session\", when(col(\"time_diff\") >30 , 1).otherwise(0) ).withColumn(\"temp_session_id\", sum(col(\"is_new_session\")).over(Window.partitionBy(\"userid\").orderBy(\"click_time\"))).withColumn(\"first_click_time\", first(col(\"click_time\")).over(Window.partitionBy(\"userid\", \"temp_session_id\").orderBy(\"click_time\"))).withColumn(\"time_diff2\", ((col(\"click_time\").cast(\"long\") - col(\"first_click_time\").cast(\"long\"))/(60 * 60 * 2)).cast(\"int\")).withColumn(\"session_id\", (col(\"time_diff2\") + col(\"temp_session_id\")))\n",
    "df2.show()\n",
    "df2.drop(\"lag_click_time\",\"time_diff\", \"is_new_session\", \"temp_session_id\", \"first_click_time\", \"time_diff2\" ).show()"
   ]
  }
 ],
 "metadata": {
  "application/vnd.databricks.v1+notebook": {
   "dashboards": [],
   "language": "python",
   "notebookMetadata": {
    "pythonIndentUnit": 4
   },
   "notebookName": "day2-click_stream_example",
   "widgets": {}
  }
 },
 "nbformat": 4,
 "nbformat_minor": 0
}
